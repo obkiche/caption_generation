{
 "cells": [
  {
   "cell_type": "code",
   "execution_count": null,
   "id": "4c607f97",
   "metadata": {},
   "outputs": [],
   "source": [
    "import string\n",
    "import numpy as np\n",
    "from PIL import Image\n",
    "import os\n",
    "from pickle import dump, load\n",
    "import numpy as np\n",
    " \n",
    "from tensorflow.keras.applications.xception import Xception, preprocess_input\n",
    "from tensorflow.keras.applications.inception_v3 import InceptionV3\n",
    "from keras.preprocessing.image import load_img, img_to_array\n",
    "from keras.preprocessing.text import Tokenizer\n",
    "from keras.preprocessing.sequence import pad_sequences\n",
    "from keras.utils import to_categorical\n",
    "from keras.layers.merge import add\n",
    "from tensorflow.keras.models import Model, load_model\n",
    "from tensorflow.keras.layers import Input, Dense, LSTM, Embedding, Dropout\n"
   ]
  },
  {
   "cell_type": "code",
   "execution_count": null,
   "id": "7f8d7c64",
   "metadata": {},
   "outputs": [],
   "source": [
    "def extract_features(directory):\n",
    "    model = Xception(include_top=False, pooling='avg')\n",
    "    features = {}\n",
    "    for img in os.listdir(dataset_image):\n",
    "        filename = dataset_image + '/' + img\n",
    "        print(filename)\n",
    "        image = Image.open(filename)\n",
    "        image = image.resize((299,299))\n",
    "        image = np.expand_dims(image,axis=0)\n",
    "        image = image/127.5\n",
    "        image = image - 1.0\n",
    "        feature = model.predict(image)\n",
    "        features[img] = feature\n",
    "        feature = model.predict(image)\n",
    "        features[img] = feature\n",
    "    return features"
   ]
  },
  {
   "cell_type": "code",
   "execution_count": null,
   "id": "81b8733f",
   "metadata": {},
   "outputs": [],
   "source": [
    "model = InceptionV3(weights='imagenet')"
   ]
  },
  {
   "cell_type": "code",
   "execution_count": null,
   "id": "73cde2ba",
   "metadata": {},
   "outputs": [],
   "source": [
    "\n",
    "dataset_image = './data/flicker_dataset/Flicker8k_Dataset'\n",
    "features = {}\n",
    "for img in os.listdir(dataset_image):\n",
    "    filename = dataset_image + '/' + img\n",
    "    print(filename)\n",
    "    image = Image.open(filename)\n",
    "    image = image.resize((299,299))\n",
    "    image = np.expand_dims(image,axis=0)\n",
    "    image = image/127.5\n",
    "    image = image - 1.0\n",
    "    feature = model.predict(image)\n",
    "    features[img] = feature\n",
    "    \n",
    "\n",
    "#features = extract_features(dataset_image)"
   ]
  },
  {
   "cell_type": "code",
   "execution_count": null,
   "id": "6bb38d9d",
   "metadata": {},
   "outputs": [],
   "source": [
    "import pickle\n",
    "\n",
    "dump(features, open(\"features.p\", \"wb\"))"
   ]
  },
  {
   "cell_type": "code",
   "execution_count": null,
   "id": "8c7173d1",
   "metadata": {},
   "outputs": [],
   "source": [
    "print(type(feature))"
   ]
  },
  {
   "cell_type": "code",
   "execution_count": null,
   "id": "f87084ef",
   "metadata": {},
   "outputs": [],
   "source": [
    "features = load(open(\"features.p\",\"rb\"))"
   ]
  }
 ],
 "metadata": {
  "kernelspec": {
   "display_name": "tf2",
   "language": "python",
   "name": "tf2"
  },
  "language_info": {
   "codemirror_mode": {
    "name": "ipython",
    "version": 3
   },
   "file_extension": ".py",
   "mimetype": "text/x-python",
   "name": "python",
   "nbconvert_exporter": "python",
   "pygments_lexer": "ipython3",
   "version": "3.7.13"
  }
 },
 "nbformat": 4,
 "nbformat_minor": 5
}
