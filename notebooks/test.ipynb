{
 "cells": [
  {
   "cell_type": "code",
   "execution_count": 1,
   "id": "43ba034f",
   "metadata": {},
   "outputs": [],
   "source": [
    "import tensorflow as tf"
   ]
  },
  {
   "cell_type": "code",
   "execution_count": 3,
   "id": "e33610ba",
   "metadata": {},
   "outputs": [
    {
     "data": {
      "text/plain": [
       "'2.6.0'"
      ]
     },
     "execution_count": 3,
     "metadata": {},
     "output_type": "execute_result"
    }
   ],
   "source": [
    "tf.__version__"
   ]
  },
  {
   "cell_type": "code",
   "execution_count": 4,
   "id": "0bbf9182",
   "metadata": {},
   "outputs": [],
   "source": [
    "import matplotlib.pyplot as plt"
   ]
  },
  {
   "cell_type": "code",
   "execution_count": 26,
   "id": "0f5e9500",
   "metadata": {},
   "outputs": [],
   "source": [
    "image = [\n",
    "    [0,3,63],\n",
    "    [95,127,159],\n",
    "    [191,223,255]  \n",
    "]"
   ]
  },
  {
   "cell_type": "code",
   "execution_count": 27,
   "id": "f35ee03b",
   "metadata": {},
   "outputs": [
    {
     "data": {
      "text/plain": [
       "[[0, 3, 63], [95, 127, 159], [191, 223, 255]]"
      ]
     },
     "execution_count": 27,
     "metadata": {},
     "output_type": "execute_result"
    }
   ],
   "source": [
    "image"
   ]
  },
  {
   "cell_type": "code",
   "execution_count": 28,
   "id": "4cb0ba6b",
   "metadata": {},
   "outputs": [
    {
     "data": {
      "text/plain": [
       "<tf.Tensor: shape=(3, 3), dtype=int32, numpy=\n",
       "array([[  0,   3,  63],\n",
       "       [ 95, 127, 159],\n",
       "       [191, 223, 255]])>"
      ]
     },
     "execution_count": 28,
     "metadata": {},
     "output_type": "execute_result"
    }
   ],
   "source": [
    "image = tf.convert_to_tensor(image)\n",
    "image"
   ]
  },
  {
   "cell_type": "code",
   "execution_count": 29,
   "id": "426cea28",
   "metadata": {},
   "outputs": [
    {
     "data": {
      "text/plain": [
       "<matplotlib.image.AxesImage at 0x1bb93985d90>"
      ]
     },
     "execution_count": 29,
     "metadata": {},
     "output_type": "execute_result"
    },
    {
     "data": {
      "image/png": "[encoded data removed]",
      "text/plain": [
       "<Figure size 432x288 with 1 Axes>"
      ]
     },
     "metadata": {
      "needs_background": "light"
     },
     "output_type": "display_data"
    }
   ],
   "source": [
    "plt.imshow(image, cmap='YlOrRd')"
   ]
  },
  {
   "cell_type": "code",
   "execution_count": 24,
   "id": "6534c95c",
   "metadata": {},
   "outputs": [
    {
     "name": "stdout",
     "output_type": "stream",
     "text": [
      "0\n",
      "31\n",
      "63\n",
      "95\n",
      "127\n",
      "159\n",
      "191\n",
      "223\n",
      "255\n"
     ]
    }
   ],
   "source": [
    "steps = 9\n",
    "\n",
    "for i in range(steps):\n",
    "    print(int(255/(steps - 1) * i))\n"
   ]
  },
  {
   "cell_type": "code",
   "execution_count": 35,
   "id": "c32d01da",
   "metadata": {},
   "outputs": [
    {
     "name": "stdout",
     "output_type": "stream",
     "text": [
      "Model: \"sequential\"\n",
      "_________________________________________________________________\n",
      "Layer (type)                 Output Shape              Param #   \n",
      "=================================================================\n",
      "flatten (Flatten)            (None, 9)                 0         \n",
      "=================================================================\n",
      "Total params: 0\n",
      "Trainable params: 0\n",
      "Non-trainable params: 0\n",
      "_________________________________________________________________\n"
     ]
    }
   ],
   "source": [
    "model = tf.keras.Sequential([\n",
    "    tf.keras.layers.Flatten(input_shape=(3,3))\n",
    "])\n",
    "\n",
    "model.summary()"
   ]
  },
  {
   "cell_type": "code",
   "execution_count": 44,
   "id": "53812800",
   "metadata": {},
   "outputs": [],
   "source": [
    "image_batch = tf.expand_dims(image,[0])"
   ]
  },
  {
   "cell_type": "code",
   "execution_count": 45,
   "id": "87937b73",
   "metadata": {},
   "outputs": [],
   "source": [
    "output = model.predict(image_batch)"
   ]
  },
  {
   "cell_type": "code",
   "execution_count": 46,
   "id": "8e44bd17",
   "metadata": {},
   "outputs": [
    {
     "data": {
      "text/plain": [
       "<matplotlib.image.AxesImage at 0x1bb9a5413a0>"
      ]
     },
     "execution_count": 46,
     "metadata": {},
     "output_type": "execute_result"
    },
    {
     "data": {
      "image/png": "[encoded data removed]",
      "text/plain": [
       "<Figure size 432x288 with 1 Axes>"
      ]
     },
     "metadata": {
      "needs_background": "light"
     },
     "output_type": "display_data"
    }
   ],
   "source": [
    "plt.imshow(output)"
   ]
  },
  {
   "cell_type": "code",
   "execution_count": 47,
   "id": "230186c6",
   "metadata": {},
   "outputs": [
    {
     "name": "stdout",
     "output_type": "stream",
     "text": [
      "WARNING:tensorflow:Model was constructed with shape (None, 3, 3) for input KerasTensor(type_spec=TensorSpec(shape=(None, 3, 3), dtype=tf.float32, name='flatten_input'), name='flatten_input', description=\"created by layer 'flatten_input'\"), but it was called on an input with incompatible shape (None, 3).\n"
     ]
    }
   ],
   "source": [
    "output2 = model.predict(image)"
   ]
  },
  {
   "cell_type": "code",
   "execution_count": 48,
   "id": "40ef348f",
   "metadata": {},
   "outputs": [
    {
     "data": {
      "text/plain": [
       "<matplotlib.image.AxesImage at 0x1bb9a628850>"
      ]
     },
     "execution_count": 48,
     "metadata": {},
     "output_type": "execute_result"
    },
    {
     "data": {
      "image/png": "[encoded data removed]",
      "text/plain": [
       "<Figure size 432x288 with 1 Axes>"
      ]
     },
     "metadata": {
      "needs_background": "light"
     },
     "output_type": "display_data"
    }
   ],
   "source": [
    "plt.imshow(output2)"
   ]
  },
  {
   "cell_type": "code",
   "execution_count": 49,
   "id": "f0356401",
   "metadata": {},
   "outputs": [
    {
     "name": "stdout",
     "output_type": "stream",
     "text": [
      "rectified(1.0) is 1.0\n",
      "rectified(1000.0) is 1000.0\n",
      "rectified(0.0) is 0.0\n",
      "rectified(-1.0) is 0.0\n",
      "rectified(-1000.0) is 0.0\n"
     ]
    }
   ],
   "source": [
    "# demonstrate the rectified linear function\n",
    "\n",
    "# rectified linear function\n",
    "def rectified(x):\n",
    "\treturn max(0.0, x)\n",
    "\n",
    "# demonstrate with a positive input\n",
    "x = 1.0\n",
    "print('rectified(%.1f) is %.1f' % (x, rectified(x)))\n",
    "x = 1000.0\n",
    "print('rectified(%.1f) is %.1f' % (x, rectified(x)))\n",
    "# demonstrate with a zero input\n",
    "x = 0.0\n",
    "print('rectified(%.1f) is %.1f' % (x, rectified(x)))\n",
    "# demonstrate with a negative input\n",
    "x = -1.0\n",
    "print('rectified(%.1f) is %.1f' % (x, rectified(x)))\n",
    "x = -1000.0\n",
    "print('rectified(%.1f) is %.1f' % (x, rectified(x)))"
   ]
  },
  {
   "cell_type": "code",
   "execution_count": 50,
   "id": "cfb9e9c1",
   "metadata": {},
   "outputs": [
    {
     "data": {
      "text/plain": [
       "[-10, -9, -8, -7, -6, -5, -4, -3, -2, -1, 0, 1, 2, 3, 4, 5, 6, 7, 8, 9, 10]"
      ]
     },
     "execution_count": 50,
     "metadata": {},
     "output_type": "execute_result"
    }
   ],
   "source": [
    "# define a series of inputs\n",
    "series_in = [x for x in range(-10, 11)]\n",
    "series_in\n"
   ]
  },
  {
   "cell_type": "code",
   "execution_count": null,
   "id": "7ccd81bc",
   "metadata": {},
   "outputs": [],
   "source": []
  }
 ],
 "metadata": {
  "kernelspec": {
   "display_name": "tf",
   "language": "python",
   "name": "tf"
  },
  "language_info": {
   "codemirror_mode": {
    "name": "ipython",
    "version": 3
   },
   "file_extension": ".py",
   "mimetype": "text/x-python",
   "name": "python",
   "nbconvert_exporter": "python",
   "pygments_lexer": "ipython3",
   "version": "3.9.12"
  }
 },
 "nbformat": 4,
 "nbformat_minor": 5
}
